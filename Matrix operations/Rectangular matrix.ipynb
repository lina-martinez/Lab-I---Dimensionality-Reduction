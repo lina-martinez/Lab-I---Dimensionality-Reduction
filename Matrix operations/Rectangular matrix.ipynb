{
 "cells": [
  {
   "cell_type": "markdown",
   "id": "2803e5d4",
   "metadata": {},
   "source": [
    "## Lab I - Dimensionality Reduction"
   ]
  },
  {
   "cell_type": "markdown",
   "id": "3fcf23b9",
   "metadata": {},
   "source": [
    "### Workshop I"
   ]
  },
  {
   "cell_type": "markdown",
   "id": "e330049a",
   "metadata": {},
   "source": [
    "**1. Simulate any random rectangular matrix A.**"
   ]
  },
  {
   "cell_type": "code",
   "execution_count": 21,
   "id": "3367b51e",
   "metadata": {},
   "outputs": [
    {
     "name": "stdout",
     "output_type": "stream",
     "text": [
      "[[0.77045879 0.64335567 0.87289854]\n",
      " [0.49673807 0.21626757 0.47189248]\n",
      " [0.04464037 0.99008211 0.23947806]\n",
      " [0.17852867 0.7842818  0.9720467 ]]\n"
     ]
    }
   ],
   "source": [
    "import numpy as np\n",
    "\n",
    "# Set the dimensions of the matrix\n",
    "n_rows = 4\n",
    "n_cols = 3\n",
    "\n",
    "# Simulate a random matrix A\n",
    "A = np.random.rand(n_rows, n_cols)\n",
    "print(A)"
   ]
  },
  {
   "cell_type": "markdown",
   "id": "4ab3c286",
   "metadata": {},
   "source": [
    "**What is the rank and trace of A?**"
   ]
  },
  {
   "cell_type": "code",
   "execution_count": 22,
   "id": "01707013",
   "metadata": {},
   "outputs": [
    {
     "name": "stdout",
     "output_type": "stream",
     "text": [
      "Rank of A: 3\n",
      "Trace of A: 1.226204426996302\n"
     ]
    }
   ],
   "source": [
    "# The rank\n",
    "rank_A = np.linalg.matrix_rank(A)\n",
    "\n",
    "# The trace (the sum of the diagonal elements of the matrix)\n",
    "trace_A = np.trace(A)\n",
    "\n",
    "print(\"Rank of A:\", rank_A)\n",
    "print(\"Trace of A:\", trace_A)"
   ]
  },
  {
   "cell_type": "markdown",
   "id": "19b60a93",
   "metadata": {},
   "source": [
    "**What is the determinant of A?**"
   ]
  },
  {
   "cell_type": "code",
   "execution_count": 23,
   "id": "b3398c29",
   "metadata": {},
   "outputs": [
    {
     "name": "stdout",
     "output_type": "stream",
     "text": [
      "Determinante de A: None\n"
     ]
    }
   ],
   "source": [
    "# Determinant (if possible)\n",
    "if n_rows == n_cols:\n",
    "    det_A = np.linalg.det(A)\n",
    "    print(\"Determinante de A:\", det_A)\n",
    "else:\n",
    "    det_A = None\n",
    "    print(\"Determinante de A:\", det_A)"
   ]
  },
  {
   "cell_type": "markdown",
   "id": "233c8937",
   "metadata": {},
   "source": [
    "Calculating the determinant of a square matrix is based on a formula that involves matrix products and depends on their dimension. If a matrix is rectangular, I don't know how to apply the determinant formula directly."
   ]
  },
  {
   "cell_type": "markdown",
   "id": "3ffd263e",
   "metadata": {},
   "source": [
    "**Can you invert A? How?**"
   ]
  },
  {
   "cell_type": "markdown",
   "id": "bb609a09",
   "metadata": {},
   "source": [
    "Only square matrices have a defined inverse. If a rectangular matrix is not square, then it cannot have a strict inverse. \n",
    "Instead, we can use the *numpy.linalg.pinv* function to find a pseudoinverse of the matrix.\n",
    "The pseudoinverse of A is used as an approximation of the inverse"
   ]
  },
  {
   "cell_type": "code",
   "execution_count": 24,
   "id": "0b9ea3c2",
   "metadata": {
    "scrolled": true
   },
   "outputs": [
    {
     "name": "stdout",
     "output_type": "stream",
     "text": [
      "Pseudoinverse of A:\n",
      " [[ 1.09346833  0.81124465  0.25104946 -1.43761406]\n",
      " [ 0.07608688 -0.11519176  1.23696358 -0.31714901]\n",
      " [-0.22487715 -0.11160135 -1.05274416  1.54423436]]\n"
     ]
    }
   ],
   "source": [
    "# the pseudoinverse of A\n",
    "A_pinv = np.linalg.pinv(A)\n",
    "print(\"Pseudoinverse of A:\\n\", A_pinv)"
   ]
  },
  {
   "cell_type": "markdown",
   "id": "34fbb540",
   "metadata": {},
   "source": [
    "**How are eigenvalues and eigenvectors of A’A and AA’ related? What interesting differences can you notice between both?**\n"
   ]
  },
  {
   "cell_type": "code",
   "execution_count": 26,
   "id": "2c6f38f2",
   "metadata": {
    "scrolled": true
   },
   "outputs": [
    {
     "name": "stdout",
     "output_type": "stream",
     "text": [
      "Eigenvalues and eigenvectors of A'A:\n",
      "\n",
      "Eigenvalues: [4.21357706 0.13928232 0.56425891] \n",
      "\n",
      "Eigenvectors: [[-0.37025823 -0.66921891  0.64424754]\n",
      " [-0.64809643 -0.31075578 -0.69527107]\n",
      " [-0.66549219  0.67496437  0.31865851]] \n",
      "\n",
      "Eigenvalues and eigenvectors of AA':\n",
      "\n",
      "Eigenvalue: [ 4.21357706e+00  5.64258909e-01 -2.38511062e-16  1.39282320e-01] \n",
      "\n",
      "Eigenvector: [[ 0.62509496  0.43560767  0.5521519  -0.33857132]\n",
      " [ 0.31087074  0.42604141 -0.82134036 -0.21736632]\n",
      " [ 0.39828906 -0.7765259  -0.12730546 -0.4713456 ]\n",
      " [ 0.59496345 -0.1604438  -0.06573901  0.7848278 ]] \n",
      "\n"
     ]
    }
   ],
   "source": [
    "# Calculate A'A \n",
    "ATA = np.dot(A.T, A)\n",
    "# Calculate AA'\n",
    "AAT = np.dot(A, A.T)\n",
    "\n",
    "# Calculate the eigenvalues and eigenvectors of A'A and AA'\n",
    "eigenvalues_ATA, eigenvectors_ATA = np.linalg.eig(ATA)\n",
    "eigenvalues_AAT, eigenvectors_AAT = np.linalg.eig(AAT)\n",
    "\n",
    "# Print the results\n",
    "print(\"Eigenvalues and eigenvectors of A'A:\\n\")\n",
    "print(\"Eigenvalues:\", eigenvalues_ATA, \"\\n\")\n",
    "print(\"Eigenvectors:\", eigenvectors_ATA, \"\\n\")\n",
    "\n",
    "print(\"Eigenvalues and eigenvectors of AA':\\n\")\n",
    "print(\"Eigenvalue:\", eigenvalues_AAT,\"\\n\")\n",
    "print(\"Eigenvector:\", eigenvectors_AAT, \"\\n\")"
   ]
  },
  {
   "cell_type": "markdown",
   "id": "fcea67c4",
   "metadata": {},
   "source": [
    "The differences between the eigenvalues and eigenvectors of A'A and AA' are due to the properties of the matrices A and A' and the different ways in which the matrices are computed and manipulated to obtain the eigenvalues and eigenvectors.\n",
    "* A'A is always a square matrix, and AA' is a square matrix, but this is given that A has a complete column range, since A is a rectangular matrix with fewer columns than rows, so we can assume that it is linearly independent.\n",
    "* The eigenvectors of AA' are obtained by multiplying the eigenvectors of A'A by A. This is obvious from the example, since the eigenvectors of AA' are larger.\n",
    "* The eigenvalues of A'A may not contain negative values, while the eigenvalues of AA' do, these negative values may invert the direction of the variable."
   ]
  }
 ],
 "metadata": {
  "kernelspec": {
   "display_name": "Python 3 (ipykernel)",
   "language": "python",
   "name": "python3"
  },
  "language_info": {
   "codemirror_mode": {
    "name": "ipython",
    "version": 3
   },
   "file_extension": ".py",
   "mimetype": "text/x-python",
   "name": "python",
   "nbconvert_exporter": "python",
   "pygments_lexer": "ipython3",
   "version": "3.10.9"
  }
 },
 "nbformat": 4,
 "nbformat_minor": 5
}
