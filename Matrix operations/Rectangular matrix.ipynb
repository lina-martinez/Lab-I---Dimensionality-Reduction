{
 "cells": [
  {
   "cell_type": "markdown",
   "id": "2803e5d4",
   "metadata": {},
   "source": [
    "## Lab I - Dimensionality Reduction"
   ]
  },
  {
   "cell_type": "markdown",
   "id": "3fcf23b9",
   "metadata": {},
   "source": [
    "### Workshop I"
   ]
  },
  {
   "cell_type": "markdown",
   "id": "e330049a",
   "metadata": {},
   "source": [
    "**1. Simulate any random rectangular matrix A.**"
   ]
  },
  {
   "cell_type": "code",
   "execution_count": 1,
   "id": "3367b51e",
   "metadata": {},
   "outputs": [
    {
     "name": "stdout",
     "output_type": "stream",
     "text": [
      "[[0.36583182 0.99678227 0.96471117]\n",
      " [0.67554354 0.34779075 0.15446184]\n",
      " [0.43235302 0.69962855 0.52119207]\n",
      " [0.56156348 0.37815309 0.70067594]]\n"
     ]
    }
   ],
   "source": [
    "import numpy as np\n",
    "\n",
    "# Set the dimensions of the matrix\n",
    "n_rows = 4\n",
    "n_cols = 3\n",
    "\n",
    "# Simulate a random matrix A\n",
    "A = np.random.rand(n_rows, n_cols)\n",
    "print(A)"
   ]
  },
  {
   "cell_type": "markdown",
   "id": "4ab3c286",
   "metadata": {},
   "source": [
    "**What is the rank and trace of A?**"
   ]
  },
  {
   "cell_type": "code",
   "execution_count": 2,
   "id": "01707013",
   "metadata": {},
   "outputs": [
    {
     "name": "stdout",
     "output_type": "stream",
     "text": [
      "Rank of A: 3\n",
      "Trace of A: 1.2348146345391866\n"
     ]
    }
   ],
   "source": [
    "# The rank\n",
    "rank_A = np.linalg.matrix_rank(A)\n",
    "\n",
    "# The trace (the sum of the diagonal elements of the matrix)\n",
    "trace_A = np.trace(A)\n",
    "\n",
    "print(\"Rank of A:\", rank_A)\n",
    "print(\"Trace of A:\", trace_A)"
   ]
  },
  {
   "cell_type": "markdown",
   "id": "19b60a93",
   "metadata": {},
   "source": [
    "**What is the determinant of A?**"
   ]
  },
  {
   "cell_type": "code",
   "execution_count": 3,
   "id": "b3398c29",
   "metadata": {},
   "outputs": [
    {
     "name": "stdout",
     "output_type": "stream",
     "text": [
      "Determinant of A: None\n"
     ]
    }
   ],
   "source": [
    "# Determinant (if possible)\n",
    "if n_rows == n_cols:\n",
    "    det_A = np.linalg.det(A)\n",
    "    print(\"Determinant of A:\", det_A)\n",
    "else:\n",
    "    det_A = None\n",
    "    print(\"Determinant of A:\", det_A)"
   ]
  },
  {
   "cell_type": "markdown",
   "id": "233c8937",
   "metadata": {},
   "source": [
    "Calculating the determinant of a square matrix is based on a formula that involves matrix products and depends on their dimension. If a matrix is rectangular, I don't know how to apply the determinant formula directly."
   ]
  },
  {
   "cell_type": "markdown",
   "id": "3ffd263e",
   "metadata": {},
   "source": [
    "**Can you invert A? How?**"
   ]
  },
  {
   "attachments": {},
   "cell_type": "markdown",
   "id": "bb609a09",
   "metadata": {},
   "source": [
    "Only square matrices have a defined inverse. If a rectangular matrix is not square, then it cannot have a strict inverse."
   ]
  },
  {
   "cell_type": "code",
   "execution_count": 4,
   "id": "0b9ea3c2",
   "metadata": {
    "scrolled": true
   },
   "outputs": [
    {
     "name": "stdout",
     "output_type": "stream",
     "text": [
      "Inverse of A: None\n"
     ]
    }
   ],
   "source": [
    "# Inverse of A (if possible)\n",
    "if n_rows == n_cols:\n",
    "    A_inv = np.linalg.inv(A)\n",
    "    print(\"Inverse of A:\", A_inv)\n",
    "else:\n",
    "    A_inv = None\n",
    "    print(\"Inverse of A:\", A_inv)"
   ]
  },
  {
   "cell_type": "markdown",
   "id": "34fbb540",
   "metadata": {},
   "source": [
    "**How are eigenvalues and eigenvectors of A’A and AA’ related? What interesting differences can you notice between both?**\n"
   ]
  },
  {
   "cell_type": "code",
   "execution_count": 5,
   "id": "2c6f38f2",
   "metadata": {
    "scrolled": true
   },
   "outputs": [
    {
     "name": "stdout",
     "output_type": "stream",
     "text": [
      "Eigenvalues and eigenvectors of A'A:\n",
      "\n",
      "Eigenvalues: [4.1594631  0.31152673 0.08561206] \n",
      "\n",
      "Eigenvectors: [[ 0.45084078  0.8896896   0.0720764 ]\n",
      " [ 0.63559163 -0.26328464 -0.72574409]\n",
      " [ 0.62671036 -0.37300618  0.68417871]] \n",
      "\n",
      "Eigenvalues and eigenvectors of AA':\n",
      "\n",
      "Eigenvalue: [4.15946310e+00 3.11526731e-01 7.98602956e-17 8.56120561e-02] \n",
      "\n",
      "Eigenvector: [[-0.68795746 -0.53176774 -0.47743224 -0.12647553]\n",
      " [-0.30518537  0.80953916 -0.37315335 -0.33505941]\n",
      " [-0.47376718  0.01084066  0.77924685 -0.41012375]\n",
      " [-0.45729758  0.24849929  0.15996681  0.83877151]] \n",
      "\n"
     ]
    }
   ],
   "source": [
    "# Calculate A'A \n",
    "ATA = np.dot(A.T, A)\n",
    "# Calculate AA'\n",
    "AAT = np.dot(A, A.T)\n",
    "\n",
    "# Calculate the eigenvalues and eigenvectors of A'A and AA'\n",
    "eigenvalues_ATA, eigenvectors_ATA = np.linalg.eig(ATA)\n",
    "eigenvalues_AAT, eigenvectors_AAT = np.linalg.eig(AAT)\n",
    "\n",
    "# Print the results\n",
    "print(\"Eigenvalues and eigenvectors of A'A:\\n\")\n",
    "print(\"Eigenvalues:\", eigenvalues_ATA, \"\\n\")\n",
    "print(\"Eigenvectors:\", eigenvectors_ATA, \"\\n\")\n",
    "\n",
    "print(\"Eigenvalues and eigenvectors of AA':\\n\")\n",
    "print(\"Eigenvalue:\", eigenvalues_AAT,\"\\n\")\n",
    "print(\"Eigenvector:\", eigenvectors_AAT, \"\\n\")"
   ]
  },
  {
   "attachments": {},
   "cell_type": "markdown",
   "id": "fcea67c4",
   "metadata": {},
   "source": [
    "The differences between the eigenvalues and eigenvectors of A'A and AA' are due to the properties of the matrices A and A' and the different ways in which the matrices are computed and manipulated to obtain the eigenvalues and eigenvectors.\n",
    "* A'A is always a square matrix, and AA' is a square matrix, but this is given that A has a complete column range, since A is a rectangular matrix with fewer columns than rows, so we can assume that it is linearly independent.\n",
    "* AAT is a larger matrix than ATA, so it can be more computationally expensive to calculate.\n",
    "* The eigenvectors of AA' are obtained by multiplying the eigenvectors of A'A by A. This is obvious from the example, since the eigenvectors of AA' are larger.\n",
    "* The eigenvalues of A'A may not contain negative values, while the eigenvalues of AA' do, these negative values may invert the direction of the variable."
   ]
  }
 ],
 "metadata": {
  "kernelspec": {
   "display_name": "Python 3 (ipykernel)",
   "language": "python",
   "name": "python3"
  },
  "language_info": {
   "codemirror_mode": {
    "name": "ipython",
    "version": 3
   },
   "file_extension": ".py",
   "mimetype": "text/x-python",
   "name": "python",
   "nbconvert_exporter": "python",
   "pygments_lexer": "ipython3",
   "version": "3.10.9"
  }
 },
 "nbformat": 4,
 "nbformat_minor": 5
}
