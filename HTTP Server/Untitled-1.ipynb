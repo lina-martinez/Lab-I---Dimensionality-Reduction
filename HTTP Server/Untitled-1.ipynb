{
 "cells": [
  {
   "cell_type": "code",
   "execution_count": null,
   "metadata": {},
   "outputs": [],
   "source": [
    "import sys\n",
    "sys.path.append(r'C:\\Users\\Lina\\Documents\\Lab-I---Dimensionality-Reduction\\Unsupervised_model')\n",
    "\n",
    "from SVD import SVD as MySVD\n",
    "from PCA import PCA as MyPCA\n",
    "from TSNE import TSNE as MyTSNE\n",
    "\n",
    "import json\n",
    "import numpy as np\n",
    "from flask import Flask, request\n",
    "from sklearn.datasets import fetch_openml\n",
    "from sklearn.neural_network import MLPClassifier\n",
    "from sklearn.preprocessing import StandardScaler"
   ]
  },
  {
   "cell_type": "code",
   "execution_count": null,
   "metadata": {},
   "outputs": [],
   "source": [
    "mnist = fetch_openml('mnist_784')\n",
    "mnist.target = mnist.target.astype(int)\n",
    "X, y = mnist['data'], mnist['target']"
   ]
  },
  {
   "cell_type": "code",
   "execution_count": null,
   "metadata": {},
   "outputs": [],
   "source": [
    "#Reducimos la dimensionalidad de los datos de entrada usando nuestro paquete Python no supervisado:\n",
    "n_components = 20  # número de componentes para reducción de dimensionalidad\n",
    "pca = MyPCA(n_components=20)\n",
    "X_pca_fit = pca.fit(X)\n",
    "X_pca = pca.fit_transform(X)"
   ]
  },
  {
   "attachments": {},
   "cell_type": "markdown",
   "metadata": {},
   "source": [
    "Al estandarizar los datos, se asegura que todos los datos de entrada estén en una escala similar y se reduce la probabilidad de que se produzcan valores no finitos durante el entrenamiento del modelo"
   ]
  },
  {
   "cell_type": "code",
   "execution_count": null,
   "metadata": {},
   "outputs": [],
   "source": [
    "scaler = StandardScaler()\n",
    "X_train_scaled = scaler.fit_transform(X_pca)"
   ]
  },
  {
   "cell_type": "code",
   "execution_count": null,
   "metadata": {},
   "outputs": [],
   "source": [
    "#Entrenamos el clasificador de dígitos MNIST\n",
    "clf = MLPClassifier(hidden_layer_sizes=(50,), max_iter=10, alpha=1e-4, solver='sgd', verbose=10, tol=1e-4, random_state=1, learning_rate_init=.1)\n",
    "clf.fit(X_train_scaled, y)"
   ]
  },
  {
   "cell_type": "code",
   "execution_count": null,
   "metadata": {},
   "outputs": [],
   "source": [
    "app = Flask(__name__)\n",
    "\n",
    "@app.route('/mnist', methods=['POST'])\n",
    "def classify_mnist():\n",
    "    # extraemos la imagen de la solicitud POST\n",
    "    data = request.json['data']\n",
    "    \n",
    "    # convertimos la imagen en una matriz numpy y la redimensionamos\n",
    "    X = np.array(data).reshape(1, -1)\n",
    "    \n",
    "    # reducimos la dimensionalidad de la imagen usando PCA\n",
    "    X_pca = pca.transform(X)\n",
    "    \n",
    "    # predecimos la clase de la imagen usando el clasificador pre-entrenado\n",
    "    y_pred = clf.predict(X_pca)\n",
    "    \n",
    "    # devolvemos la clase predicha como respuesta JSON\n",
    "    return json.dumps({'class': y_pred.tolist()[0]})"
   ]
  },
  {
   "cell_type": "code",
   "execution_count": null,
   "metadata": {},
   "outputs": [],
   "source": [
    "if __name__ == '__main__':\n",
    "    app.run()"
   ]
  }
 ],
 "metadata": {
  "kernelspec": {
   "display_name": "base",
   "language": "python",
   "name": "python3"
  },
  "language_info": {
   "codemirror_mode": {
    "name": "ipython",
    "version": 3
   },
   "file_extension": ".py",
   "mimetype": "text/x-python",
   "name": "python",
   "nbconvert_exporter": "python",
   "pygments_lexer": "ipython3",
   "version": "3.10.9"
  },
  "orig_nbformat": 4
 },
 "nbformat": 4,
 "nbformat_minor": 2
}
